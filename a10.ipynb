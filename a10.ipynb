{
 "cells": [
  {
   "cell_type": "markdown",
   "metadata": {},
   "source": [
    "# Atividade 10"
   ]
  },
  {
   "cell_type": "markdown",
   "metadata": {},
   "source": [
    "Tiago Vargas Pereira de Oliveira\n",
    "\n",
    "Vinicius Peixoto Chagas"
   ]
  },
  {
   "cell_type": "markdown",
   "metadata": {},
   "source": [
    "# Q1\n",
    "\n",
    "Implemente a RNA MLP com as seguintes saídas e entradas:\n",
    "\n",
    "Entradas: `[1 1 1; 0 1 1; 1 0 1; 1 1 0; 0 0 1; 0 1 0; 1 0 0; 0 0 0]`.\n",
    "\n",
    "Saída: `[1; 1; 1; 1; 1; 1; 1; 0]`.\n",
    "\n",
    "*Com os pesos aleatórios e ajuste dos neurônios de forma manual (ou exaustiva)"
   ]
  },
  {
   "cell_type": "markdown",
   "metadata": {},
   "source": [
    "# Q2\n",
    "\n",
    "Implemente a RNA MLP para a porta NAND com duas entradas e uma saída.\n",
    "\n",
    "*Com os pesos aleatórios e ajuste dos neurônios de forma manual (ou exaustiva)"
   ]
  },
  {
   "cell_type": "markdown",
   "metadata": {},
   "source": [
    "# Q3\n",
    "\n",
    "Implemente a RNA MLP para a porta NOR com duas entradas e uma saída.\n",
    "\n",
    "*Com os pesos aleatórios e ajuste dos neurônios de forma manual (ou exaustiva)"
   ]
  },
  {
   "cell_type": "markdown",
   "metadata": {},
   "source": [
    "# Arquivo `mlp_arquitetura`"
   ]
  },
  {
   "cell_type": "code",
   "execution_count": null,
   "metadata": {},
   "outputs": [],
   "source": [
    "#!/usr/bin/env python\n",
    "# coding: utf-8\n",
    "\n",
    "# In[211]:\n",
    "\n",
    "\n",
    "X = [[0, 0], [0, 1],[1, 0], [1, 1]]\n",
    "X\n",
    "\n",
    "\n",
    "# In[212]:\n",
    "\n",
    "\n",
    "y = [0, 1, 1, 1]\n",
    "y\n",
    "\n",
    "\n",
    "# In[213]:\n",
    "\n",
    "\n",
    "import numpy as np\n",
    "\n",
    "\n",
    "# In[214]:\n",
    "\n",
    "\n",
    "input_size = 2\n",
    "hidden_size = 3\n",
    "output_size = 1\n",
    "\n",
    "\n",
    "# In[219]:\n",
    "\n",
    "\n",
    "np.random.seed(146)\n",
    "\n",
    "W1 = np.random.normal(scale=1, size = (input_size,hidden_size))\n",
    "\n",
    "W2 = np.random.normal(scale=1, size = (hidden_size,output_size))\n",
    "\n",
    "\n",
    "# In[220]:\n",
    "\n",
    "\n",
    "def sigmoid(x):\n",
    "    return 1/(1+np.exp(-x))\n",
    "\n",
    "\n",
    "# In[221]:\n",
    "\n",
    "\n",
    "Z1 = np.dot(X, W1)\n",
    "A1 = sigmoid(Z1)\n",
    "Z2 = np.dot(A1, W2)\n",
    "A2 = sigmoid(Z2)\n",
    "\n",
    "\n",
    "# In[222]:\n",
    "\n",
    "\n",
    "np.round(A2)\n",
    "\n",
    "\n",
    "# In[223]:\n",
    "\n",
    "\n",
    "print(A2)\n",
    "\n",
    "\n",
    "# In[224]:\n",
    "\n",
    "print()\n",
    "print(W1)\n",
    "\n",
    "\n",
    "# In[ ]:\n"
   ]
  }
 ],
 "metadata": {
  "language_info": {
   "name": "python"
  }
 },
 "nbformat": 4,
 "nbformat_minor": 2
}
